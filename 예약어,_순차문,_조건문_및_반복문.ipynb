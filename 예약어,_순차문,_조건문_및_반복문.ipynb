{
  "nbformat": 4,
  "nbformat_minor": 0,
  "metadata": {
    "colab": {
      "name": "예약어, 순차문, 조건문 및 반복문.ipynb",
      "provenance": [],
      "collapsed_sections": [],
      "include_colab_link": true
    },
    "kernelspec": {
      "name": "python3",
      "display_name": "Python 3"
    }
  },
  "cells": [
    {
      "cell_type": "markdown",
      "metadata": {
        "id": "view-in-github",
        "colab_type": "text"
      },
      "source": [
        "<a href=\"https://colab.research.google.com/github/DrKAI/eduwith-programming-for-everyone/blob/master/%EC%98%88%EC%95%BD%EC%96%B4%2C_%EC%88%9C%EC%B0%A8%EB%AC%B8%2C_%EC%A1%B0%EA%B1%B4%EB%AC%B8_%EB%B0%8F_%EB%B0%98%EB%B3%B5%EB%AC%B8.ipynb\" target=\"_parent\"><img src=\"https://colab.research.google.com/assets/colab-badge.svg\" alt=\"Open In Colab\"/></a>"
      ]
    },
    {
      "cell_type": "code",
      "metadata": {
        "id": "CgvJK0OzJyyw",
        "colab_type": "code",
        "outputId": "a5a640c3-2423-4523-c2e1-8c949df30ec7",
        "colab": {
          "base_uri": "https://localhost:8080/",
          "height": 53
        }
      },
      "source": [
        "# 순차문\n",
        "\n",
        "x = 2\n",
        "print(x)\n",
        "\n",
        "x = x + 2\n",
        "print(x)"
      ],
      "execution_count": 0,
      "outputs": [
        {
          "output_type": "stream",
          "text": [
            "2\n",
            "4\n"
          ],
          "name": "stdout"
        }
      ]
    },
    {
      "cell_type": "code",
      "metadata": {
        "id": "6-LjcrQmLKr9",
        "colab_type": "code",
        "outputId": "d39496cd-1606-4263-c936-b3d05bfacbe7",
        "colab": {
          "base_uri": "https://localhost:8080/",
          "height": 125
        }
      },
      "source": [
        "# 반복문\n",
        "\n",
        "n = 5\n",
        "\n",
        "while n > 0:\n",
        "  print(n)\n",
        "  n = n - 1\n",
        "\n",
        "print('Blastoff')"
      ],
      "execution_count": 0,
      "outputs": [
        {
          "output_type": "stream",
          "text": [
            "5\n",
            "4\n",
            "3\n",
            "2\n",
            "1\n",
            "Blastoff\n"
          ],
          "name": "stdout"
        }
      ]
    },
    {
      "cell_type": "code",
      "metadata": {
        "id": "zZaNYj7vKeie",
        "colab_type": "code",
        "outputId": "ba55d43d-143d-41e8-8289-a8a40c962050",
        "colab": {
          "base_uri": "https://localhost:8080/",
          "height": 53
        }
      },
      "source": [
        "# 조건문\n",
        "\n",
        "x = 5\n",
        "\n",
        "if x < 10:\n",
        "  print('smaller')\n",
        "if x > 20:\n",
        "  print('bigger')\n",
        "\n",
        "print('Finis')"
      ],
      "execution_count": 0,
      "outputs": [
        {
          "output_type": "stream",
          "text": [
            "smaller\n",
            "Finis\n"
          ],
          "name": "stdout"
        }
      ]
    }
  ]
}